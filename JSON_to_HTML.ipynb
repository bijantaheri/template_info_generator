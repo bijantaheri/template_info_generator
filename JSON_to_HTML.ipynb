{
 "cells": [
  {
   "cell_type": "markdown",
   "metadata": {},
   "source": [
    "## JSON to HTML formatter\n",
    "\n",
    "For use when creating template_info in Septima Widget via a JSON converted presentation file from SpatialSuite\n",
    "\n",
    "\n",
    "### To help with formatting:\n",
    "\n",
    "\n",
    "HTML Formatter https://htmlformatter.com/\n",
    "\n",
    "\n",
    "JSON Formatter https://jsonformatter.org/\n",
    "\n",
    "\n",
    "### Test sites with properties:\n",
    "\n",
    "\n",
    "Without \\_heading http://test-kkkort.kk.dk/jsp/modules/widget/geojson.jsp?service=service_ramme_omraade_kp15\n",
    "\n",
    "\n",
    "With \\_heading http://test-kkkort.kk.dk/jsp/modules/widget/geojson.jsp?service=service_tmf_toiletter"
   ]
  },
  {
   "cell_type": "markdown",
   "metadata": {},
   "source": [
    "#### Imports"
   ]
  },
  {
   "cell_type": "code",
   "execution_count": 84,
   "metadata": {},
   "outputs": [],
   "source": [
    "import pyperclip, itertools, pandas as pd"
   ]
  },
  {
   "cell_type": "markdown",
   "metadata": {},
   "source": [
    "### Read and format scraped field dictionary"
   ]
  },
  {
   "cell_type": "code",
   "execution_count": 132,
   "metadata": {},
   "outputs": [],
   "source": [
    "df = pd.read_csv(\"dictionary.csv\", index_col=0)\n",
    "d = df.to_dict(\"split\")\n",
    "\n",
    "data = list(itertools.chain(*d['data']))\n",
    "dictionary = dict(zip(data, d[\"index\"]))"
   ]
  },
  {
   "cell_type": "markdown",
   "metadata": {},
   "source": [
    "### Input JSON chunk and heading"
   ]
  },
  {
   "cell_type": "code",
   "execution_count": 86,
   "metadata": {
    "scrolled": true
   },
   "outputs": [
    {
     "name": "stdout",
     "output_type": "stream",
     "text": [
      "Paste JSON chunk here, starting from and including 'properties':\"properties\": { \"_heading\": \"Udendørs Fitness\", \"adresse\": \"Englandsvej 61\", \"arrangoeroverskrift\": \"Arrangør:\", \"arrangoer\": \"Sundby Idrætspark\", \"telefon\": \"\", \"email\": \"\", \"hjemmeside\": \"http://www.sundbyidraetspark.kk.dk\", \"bydel\": \"Amager Vest\", \"maalgruppe\": \"Målgruppe:\", \"koen\": \"Begge\", \"aldersgruppe\": \"Alle\", \"psykisksaarbarhed\": \"0\", \"overvaegt\": \"0\", \"gigt\": \"0\", \"saerligmaalgruppe\": \"\", \"kategori\": \"udemotion\", \"koersel\": \"\", \"kategorinavn\": \"Udendørs træningsfaciliteter\" } },\n"
     ]
    }
   ],
   "source": [
    "JSON_input = input(\"Paste JSON chunk here, starting from and including 'properties':\")\n",
    "if not JSON_input.split('{')[1].split('}')[0].split(':')[0].strip().strip('\"') == '_heading':\n",
    "    heading_input = input(\"Define the heading attribute:\")\n",
    "else:\n",
    "    heading_input = '_heading'"
   ]
  },
  {
   "cell_type": "markdown",
   "metadata": {},
   "source": [
    "### Data formatting and setting up variables / dictionaries"
   ]
  },
  {
   "cell_type": "code",
   "execution_count": 87,
   "metadata": {},
   "outputs": [],
   "source": [
    "JSON   = JSON_input.split('{')[1].split('}')[0]\n",
    "fields = JSON.split('\",')\n",
    "\n",
    "div         = ''\n",
    "properties  = []\n",
    "heading     = \"<%%= %s %%>\" % heading_input"
   ]
  },
  {
   "cell_type": "markdown",
   "metadata": {},
   "source": [
    "### Creating the HTML string with headings, attributes and explanatory text"
   ]
  },
  {
   "cell_type": "code",
   "execution_count": 88,
   "metadata": {},
   "outputs": [],
   "source": [
    "for i in fields:\n",
    "    prop = i.strip().split(\":\")[0].strip('\"')\n",
    "    properties.append(prop)\n",
    "\n",
    "if properties[0] == '_heading':\n",
    "    properties.pop(0)\n",
    "\n",
    "for prop in properties:\n",
    "    \n",
    "    text = prop\n",
    "    \n",
    "    if prop in dictionary.keys():\n",
    "        text = dictionary[prop]\n",
    "    \n",
    "    div = div + \"<div> %s: <%%= %s %%> </div> \" % (text, prop)\n",
    "    \n",
    "html = \"<div class='widget-hoverbox-title'> %s </div> <div class='widget-hoverbox-sub'> %s</div>\" % (heading, div)"
   ]
  },
  {
   "cell_type": "markdown",
   "metadata": {},
   "source": [
    "### The output HTML is copied to clipboard"
   ]
  },
  {
   "cell_type": "code",
   "execution_count": 89,
   "metadata": {},
   "outputs": [
    {
     "name": "stdout",
     "output_type": "stream",
     "text": [
      "<div class='widget-hoverbox-title'> <%= _heading %> </div> <div class='widget-hoverbox-sub'> <div> Arrangør: <%= adresse %> </div> <div> arrangoeroverskrift: <%= arrangoeroverskrift %> </div> <div> - Særlig målgruppe: <%= arrangoer %> </div> <div> Kontakt, tlf: <%= telefon %> </div> <div> email: <%= email %> </div> <div> Om Boligsociale helhedsplaner på kk.dk: <%= hjemmeside %> </div> <div> bydel: <%= bydel %> </div> <div> maalgruppe: <%= maalgruppe %> </div> <div> Målgruppe: <%= koen %> </div> <div> - Køn: <%= aldersgruppe %> </div> <div> psykisksaarbarhed: <%= psykisksaarbarhed %> </div> <div> overvaegt: <%= overvaegt %> </div> <div> gigt: <%= gigt %> </div> <div> saerligmaalgruppe: <%= saerligmaalgruppe %> </div> <div> Teamkategori: <%= kategori %> </div> <div> koersel: <%= koersel %> </div> <div> Motionsform: <%= kategorinavn %> </div> </div>\n"
     ]
    }
   ],
   "source": [
    "pyperclip.copy(html)\n",
    "\n",
    "print(html)"
   ]
  },
  {
   "cell_type": "markdown",
   "metadata": {},
   "source": [
    "## Front end name suggestions"
   ]
  },
  {
   "cell_type": "code",
   "execution_count": 125,
   "metadata": {
    "scrolled": false
   },
   "outputs": [
    {
     "name": "stdout",
     "output_type": "stream",
     "text": [
      "Opsamlingsadresse\n",
      "ejer adresse\n",
      "Sagsadresse\n",
      "Postadresse\n",
      "Ny adresse\n",
      "ejer udv. adresse\n",
      "administrator adresse\n",
      "administrator udv. adresse\n",
      "NB! Datasættet er ufuldstændigt, da der ikke er angivet korrekte adresser i KKorg!\n"
     ]
    }
   ],
   "source": [
    "for val in dictionary.values():\n",
    "    if 'adresse'.strip() in val:\n",
    "        print(val)\n",
    "    "
   ]
  },
  {
   "cell_type": "code",
   "execution_count": 111,
   "metadata": {
    "scrolled": false
   },
   "outputs": [
    {
     "name": "stdout",
     "output_type": "stream",
     "text": [
      "\n",
      "\n",
      "Field:  adresse \n",
      "Autogen name: Adresse \n",
      "Other name(s):\n",
      "\tOpsamlingsadresse\n",
      "\tejer adresse\n",
      "\tSagsadresse\n",
      "\tPostadresse\n",
      "\tNy adresse\n",
      "\tejer udv. adresse\n",
      "\tadministrator adresse\n",
      "\tadministrator udv. adresse\n",
      "\tNB! Datasættet er ufuldstændigt, da der ikke er angivet korrekte adresser i KKorg!\n",
      "\n",
      "\n",
      "Field:  arrangoeroverskrift \n",
      "Autogen name: Arrangøroverskrift \n",
      "Other name(s):\n",
      "\n",
      "\n",
      "Field:  arrangoer \n",
      "Autogen name: Arrangør \n",
      "Other name(s):\n",
      "\n",
      "\n",
      "Field:  telefon \n",
      "Autogen name: Telefon \n",
      "Other name(s):\n",
      "\tKontakt telefon\n",
      "\tAnsøgers telefon\n",
      "\n",
      "\n",
      "Field:  email \n",
      "Autogen name: Email \n",
      "Other name(s):\n",
      "\tKontaktpersons email\n",
      "\tKontaktpers. email\n",
      "\temail\n",
      "\n",
      "\n",
      "Field:  hjemmeside \n",
      "Autogen name: Hjemmeside \n",
      "Other name(s):\n",
      "\tLink til sundhedshusets hjemmeside\n",
      "\n",
      "\n",
      "Field:  bydel \n",
      "Autogen name: Bydel \n",
      "Other name(s):\n",
      "\tbydel\n",
      "\n",
      "\n",
      "Field:  maalgruppe \n",
      "Autogen name: Målgruppe \n",
      "Other name(s):\n",
      "\n",
      "\n",
      "Field:  koen \n",
      "Autogen name: Køn \n",
      "Other name(s):\n",
      "\n",
      "\n",
      "Field:  aldersgruppe \n",
      "Autogen name: Aldersgruppe \n",
      "Other name(s):\n",
      "\n",
      "\n",
      "Field:  psykisksaarbarhed \n",
      "Autogen name: Psykisksårbarhed \n",
      "Other name(s):\n",
      "\n",
      "\n",
      "Field:  overvaegt \n",
      "Autogen name: Overvægt \n",
      "Other name(s):\n",
      "\n",
      "\n",
      "Field:  gigt \n",
      "Autogen name: Gigt \n",
      "Other name(s):\n",
      "\n",
      "\n",
      "Field:  saerligmaalgruppe \n",
      "Autogen name: Særligmaalgruppe \n",
      "Other name(s):\n",
      "\n",
      "\n",
      "Field:  kategori \n",
      "Autogen name: Kategori \n",
      "Other name(s):\n",
      "\tAktiveringskategori\n",
      "\tTeamkategori\n",
      "\tSagskategori\n",
      "\tAfløbskategori\n",
      "\tTryghedskategorier\n",
      "\tTryghedskategorie\n",
      "\tRute kategori\n",
      "\n",
      "\n",
      "Field:  koersel \n",
      "Autogen name: Kørsel \n",
      "Other name(s):\n",
      "\n",
      "\n",
      "Field:  kategorinavn \n",
      "Autogen name: Kategorinavn \n",
      "Other name(s):\n"
     ]
    }
   ],
   "source": [
    "generic_dict = {'aa':'å',\n",
    "               'ae':'æ',\n",
    "               'oe':'ø',\n",
    "               'Aa':'Å',\n",
    "               'Ae':'Æ',\n",
    "               'Oe':'Ø',\n",
    "               '_': ' '}\n",
    "\n",
    "for column in properties:\n",
    "    \n",
    "    generic_name = column.capitalize()\n",
    "    \n",
    "    for gen in generic_dict.keys():\n",
    "        if gen in column:\n",
    "            generic_name = column.replace(gen, generic_dict[gen])\n",
    "            generic_name = generic_name.capitalize()\n",
    "    \n",
    "    print('\\n\\nField: ', column, \n",
    "          '\\nAutogen name:', generic_name, \n",
    "          '\\nOther name(s):')\n",
    "    \n",
    "    for val in dictionary.values():\n",
    "        if column.strip() in val:\n",
    "            print('\\t', val, sep='')"
   ]
  },
  {
   "cell_type": "code",
   "execution_count": null,
   "metadata": {},
   "outputs": [],
   "source": []
  }
 ],
 "metadata": {
  "kernelspec": {
   "display_name": "Python 3",
   "language": "python",
   "name": "python3"
  },
  "language_info": {
   "codemirror_mode": {
    "name": "ipython",
    "version": 3
   },
   "file_extension": ".py",
   "mimetype": "text/x-python",
   "name": "python",
   "nbconvert_exporter": "python",
   "pygments_lexer": "ipython3",
   "version": "3.7.4"
  }
 },
 "nbformat": 4,
 "nbformat_minor": 2
}
