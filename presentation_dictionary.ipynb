{
 "cells": [
  {
   "cell_type": "markdown",
   "metadata": {},
   "source": [
    "# Presentation label:value dictionary creator"
   ]
  },
  {
   "cell_type": "markdown",
   "metadata": {},
   "source": [
    "### TODO:\n",
    "\n",
    "- [x] Byt om på keys og values i dict, således at den samme value kan have flere labels\n",
    "\n",
    "\n",
    "- [ ] Skriv en suggestion algoritme til at give forslag på front end navne, når der skrives et database kolonne navn\n",
    "\n",
    "    \n",
    "    -- Tilføj en procentsats på hvor godt forslaget passer\n",
    "   \n",
    "- [ ] Lav en html side med front end - back end forbindelse\n",
    "\n",
    "\n",
    "    -- \"you first create an html page. html5 allows all the wanted controls. you wrap the controls with an html form tag. the form has a submit control upon which it invokes some action (given by the action attribute of the form). this action is your python script. now you modify your python code to work with cgi (see e.g. tutorialspoint.com/python/python_cgi_programming.htm). cgi is a library which has access to the input fields of the html form. output from your python script will go back to the browser. \" \n",
    "    \n",
    "    -- https://stackoverflow.com/questions/13274149/how-to-create-a-webpage-with-simple-controls-and-python-back-end\n",
    "        "
   ]
  },
  {
   "cell_type": "code",
   "execution_count": 1,
   "metadata": {},
   "outputs": [],
   "source": [
    "import os, csv, itertools, pandas as pd\n",
    "from xml.dom import minidom"
   ]
  },
  {
   "cell_type": "markdown",
   "metadata": {},
   "source": [
    "### Global parameters; lists, dirs and dicts"
   ]
  },
  {
   "cell_type": "code",
   "execution_count": 2,
   "metadata": {},
   "outputs": [],
   "source": [
    "maindir    = 'Z:/presentations/custom/'\n",
    "dirs       = os.listdir(maindir)\n",
    "pres       = []\n",
    "deleted    = []\n",
    "nonoList   = [' ', '+', ',', '.', '-']\n",
    "ext        = ('.lnk', '.xml')\n",
    "dictionary = {}"
   ]
  },
  {
   "cell_type": "markdown",
   "metadata": {},
   "source": [
    "### Create a list of all presentations within the maindir and all its subfolders"
   ]
  },
  {
   "cell_type": "code",
   "execution_count": 3,
   "metadata": {},
   "outputs": [],
   "source": [
    "for dir in dirs:\n",
    "    if not dir.endswith(ext):\n",
    "        presentations = os.listdir(maindir + dir)\n",
    "        for presentation in presentations:\n",
    "            pres.append(maindir + dir + '/' + presentation)"
   ]
  },
  {
   "cell_type": "markdown",
   "metadata": {},
   "source": [
    "### Read all label:value pairs for each presentation file, and add them to the main dictionary"
   ]
  },
  {
   "cell_type": "code",
   "execution_count": 4,
   "metadata": {
    "scrolled": false
   },
   "outputs": [],
   "source": [
    "for i in pres:\n",
    "    if '.xml' in i:\n",
    "\n",
    "        xml = minidom.parse(i)\n",
    "\n",
    "        labels = xml.getElementsByTagName('label')\n",
    "        values = xml.getElementsByTagName('value')\n",
    "\n",
    "        labelList = [label.firstChild.data.strip(\"'\").strip().strip(':').strip() for label in labels[1:-2]]\n",
    "        valueList = [value.firstChild.data.strip() for value in values[1:-2]]\n",
    "\n",
    "        dictionary.update(dict(zip(labelList, valueList)))"
   ]
  },
  {
   "cell_type": "markdown",
   "metadata": {},
   "source": [
    "### Clean the keys (labels) of the dictionary, by removing unwanted/dirty values"
   ]
  },
  {
   "cell_type": "code",
   "execution_count": 5,
   "metadata": {},
   "outputs": [
    {
     "name": "stdout",
     "output_type": "stream",
     "text": [
      "2307\n",
      "1814\n"
     ]
    }
   ],
   "source": [
    "print(len(dictionary))\n",
    "\n",
    "for val in dictionary.values():\n",
    "    if any(char in val for char in nonoList):\n",
    "        deleted.append(val)\n",
    "        \n",
    "dictionary = {key:val for key, val in dictionary.items() if val not in deleted} \n",
    "    \n",
    "print(len(dictionary))\n"
   ]
  },
  {
   "cell_type": "markdown",
   "metadata": {},
   "source": [
    "## Result"
   ]
  },
  {
   "cell_type": "markdown",
   "metadata": {},
   "source": [
    "#### Write to csv"
   ]
  },
  {
   "cell_type": "code",
   "execution_count": 6,
   "metadata": {},
   "outputs": [],
   "source": [
    "df = pd.DataFrame.from_dict(dictionary, orient=\"index\")\n",
    "df.to_csv('dictionary.csv')"
   ]
  },
  {
   "cell_type": "markdown",
   "metadata": {},
   "source": [
    "#### Read from csv"
   ]
  },
  {
   "cell_type": "code",
   "execution_count": 7,
   "metadata": {},
   "outputs": [],
   "source": [
    "df = pd.read_csv(\"dictionary.csv\", index_col=0)\n",
    "d = df.to_dict(\"split\")\n",
    "\n",
    "data = list(itertools.chain(*d['data']))\n",
    "d = dict(zip(d[\"index\"], data))"
   ]
  },
  {
   "cell_type": "code",
   "execution_count": null,
   "metadata": {},
   "outputs": [],
   "source": []
  }
 ],
 "metadata": {
  "kernelspec": {
   "display_name": "Python 3",
   "language": "python",
   "name": "python3"
  },
  "language_info": {
   "codemirror_mode": {
    "name": "ipython",
    "version": 3
   },
   "file_extension": ".py",
   "mimetype": "text/x-python",
   "name": "python",
   "nbconvert_exporter": "python",
   "pygments_lexer": "ipython3",
   "version": "3.7.4"
  }
 },
 "nbformat": 4,
 "nbformat_minor": 2
}
